{
 "cells": [
  {
   "cell_type": "markdown",
   "id": "9491c8c7-3ccd-4d82-9064-680a9d89e919",
   "metadata": {},
   "source": [
    "<div style=\"background-color: #FFDDDD; border-left: 5px solid red; padding: 10px; color: black;\">\n",
    "    <strong>Kernel:</strong> Python 3 (ipykernel)\n",
    "</div>"
   ]
  },
  {
   "cell_type": "markdown",
   "id": "d4da3993-797f-4e9f-9011-d2af26d37d3c",
   "metadata": {},
   "source": [
    "![Meta Llama3.1 8b Instruct](https://developer-blogs.nvidia.com/wp-content/uploads/2024/04/dev-llama3-blog-1920x1080-1.png)"
   ]
  },
  {
   "cell_type": "markdown",
   "id": "fcbb5d61-8a0b-47d9-a7c5-0c041c82b8bf",
   "metadata": {},
   "source": [
    "# 🚀 Deploy `meta-llama/Meta-Llama-3.1-8B-Instruct` on Amazon SageMaker"
   ]
  },
  {
   "cell_type": "markdown",
   "id": "dd210e90-21e1-4f03-a08e-c3fba9aa6979",
   "metadata": {},
   "source": [
    "To start off, let's install some packages to help us through the notebooks"
   ]
  },
  {
   "cell_type": "code",
   "execution_count": null,
   "id": "3376569c",
   "metadata": {},
   "outputs": [],
   "source": [
    "%pip uninstall -q -y autogluon-multimodal autogluon-timeseries autogluon-features autogluon-common autogluon-core"
   ]
  },
  {
   "cell_type": "code",
   "execution_count": null,
   "id": "7a3964ff-d238-4789-8b83-483c66e419b7",
   "metadata": {},
   "outputs": [],
   "source": [
    "%pip install -Uq langchain==0.2.16 streamlit==1.38.0 wikipedia faiss-cpu opensearch-py==2.3.2 mlflow==2.13.2 sagemaker-mlflow==0.1.0 accelerate==0.27.2 huggingface_hub psutil pynvml numexpr==2.10.1 wikipedia==1.4.0 langchain_experimental==0.0.65 pydantic==2.9.1 py7zr==0.22.0 datasets==2.21.0 transformers==4.45.0 peft==0.12.0"
   ]
  },
  {
   "cell_type": "code",
   "execution_count": null,
   "id": "3cff4c6f-aa6a-41b2-86f2-d8d1ecae0517",
   "metadata": {},
   "outputs": [],
   "source": [
    "import os\n",
    "import sagemaker\n",
    "from sagemaker.djl_inference import DJLModel\n",
    "from ipywidgets import Dropdown\n",
    "\n",
    "import sys\n",
    "sys.path.append(os.path.dirname(os.getcwd()))\n",
    "\n",
    "from utilities.helpers import (\n",
    "    pretty_print_html, \n",
    "    set_meta_llama_params,\n",
    "    print_dialog,\n",
    "    format_messages,\n",
    "    write_eula\n",
    ")"
   ]
  },
  {
   "cell_type": "code",
   "execution_count": null,
   "id": "8b53f21c-3a65-44fc-b547-712d971cd652",
   "metadata": {},
   "outputs": [],
   "source": [
    "session = sagemaker.Session()\n",
    "role = sagemaker.get_execution_role()\n",
    "default_bucket = session.default_bucket()"
   ]
  },
  {
   "cell_type": "markdown",
   "id": "7fdb212a-8371-4a01-8193-e507d2685cc9",
   "metadata": {},
   "source": [
    "## License/EULA"
   ]
  },
  {
   "cell_type": "markdown",
   "id": "a94173ed-e988-44e4-9b1a-97d0ca9df93a",
   "metadata": {},
   "source": [
    "#### Please review [Llama LICENSE](https://huggingface.co/meta-llama/Meta-Llama-3.1-8B-Instruct/blob/main/LICENSE) before continuing!"
   ]
  },
  {
   "cell_type": "code",
   "execution_count": null,
   "id": "8bdbef67-a0f7-41e7-a124-86b41a3aa1e7",
   "metadata": {},
   "outputs": [],
   "source": [
    "eula_dropdown = Dropdown(\n",
    "    options=[\"True\", \"False\"],\n",
    "    value=\"False\",\n",
    "    description=\"**Please accept Llama 3.1 8B Instruct EULA to continue:**\",\n",
    "    style={\"description_width\": \"initial\"},\n",
    "    layout={\"width\": \"max-content\"},\n",
    ")\n",
    "display(eula_dropdown)"
   ]
  },
  {
   "cell_type": "code",
   "execution_count": null,
   "id": "3d5b0d8e-5679-41f4-80ba-b4db657091db",
   "metadata": {},
   "outputs": [],
   "source": [
    "llama_eula = f'{str(eula_dropdown.value.capitalize())}'\n",
    "pretty_print_html(f\"Your Llama 3.1 EULA attribute is set to 👉 {llama_eula}\")"
   ]
  },
  {
   "cell_type": "code",
   "execution_count": null,
   "id": "b2b9cf15-813e-4306-9c9c-01c6185c38f9",
   "metadata": {},
   "outputs": [],
   "source": [
    "_ = write_eula(llama_eula)"
   ]
  },
  {
   "cell_type": "markdown",
   "id": "2bf99fe4-fee5-4405-847e-9a36ca3fcfb5",
   "metadata": {},
   "source": [
    "## Deploy Model to SageMaker Hosting"
   ]
  },
  {
   "cell_type": "markdown",
   "id": "088b2000-64b8-4aa8-8580-b389e7bf09d9",
   "metadata": {},
   "source": [
    "### Step 1: Get SageMaker LMI Container to host Llama"
   ]
  },
  {
   "cell_type": "code",
   "execution_count": null,
   "id": "91f83a1d-08a9-49bc-900e-aa1e4c47662a",
   "metadata": {},
   "outputs": [],
   "source": [
    "inference_image_uri = sagemaker.image_uris.retrieve(\n",
    "    framework=\"djl-lmi\", \n",
    "    region=session.boto_session.region_name, \n",
    "    version=\"0.29.0\"\n",
    ")\n",
    "pretty_print_html(f\"using image to host: {inference_image_uri}\")"
   ]
  },
  {
   "cell_type": "markdown",
   "id": "67d67d58-ba4a-4c73-8cad-d94ebcdad46b",
   "metadata": {},
   "source": [
    "### Step 2: Deploy model using `DJLModel`"
   ]
  },
  {
   "cell_type": "code",
   "execution_count": null,
   "id": "20acad6c-1d59-4495-980a-5c457ee74aef",
   "metadata": {},
   "outputs": [],
   "source": [
    "inference_llm_config = {\n",
    "    \"HF_MODEL_ID\": f\"s3://{default_bucket}/sagemaker/models/base/llama3_1_8b_instruct/\",\n",
    "    \"OPTION_MAX_MODEL_LEN\": \"4096\",\n",
    "    \"OPTION_GPU_MEMORY_UTILIZATION\": \"0.8\",\n",
    "    \"OPTION_ENABLE_STREAMING\": \"false\",\n",
    "    \"OPTION_ROLLING_BATCH\": \"auto\",\n",
    "    \"OPTION_MODEL_LOADING_TIMEOUT\": \"3600\",\n",
    "    # \"OPTION_OUTPUT_FORMATTER\": \"jsonlines\",\n",
    "    \"OPTION_PAGED_ATTENTION\": \"false\",\n",
    "    \"OPTION_DTYPE\": \"fp16\",\n",
    "}"
   ]
  },
  {
   "cell_type": "code",
   "execution_count": null,
   "id": "6ccc3068-056f-4149-9908-fd60f07eb4dd",
   "metadata": {},
   "outputs": [],
   "source": [
    "model_name = \"meta-llama31-8b-instruct\"\n",
    "\n",
    "lmi_model = sagemaker.Model(\n",
    "    image_uri=inference_image_uri,\n",
    "    env=inference_llm_config,\n",
    "    role=role,\n",
    "    name=model_name\n",
    ")"
   ]
  },
  {
   "cell_type": "code",
   "execution_count": null,
   "id": "2d70a738-578b-4d6d-a4a3-c38b641b46cf",
   "metadata": {},
   "outputs": [],
   "source": [
    "endpoint_name = f\"{model_name}-endpoint\"\n",
    "\n",
    "predictor = lmi_model.deploy(\n",
    "    initial_instance_count=1, \n",
    "    instance_type=\"ml.g5.2xlarge\",\n",
    "    endpoint_name=endpoint_name\n",
    ")"
   ]
  },
  {
   "cell_type": "code",
   "execution_count": null,
   "id": "b580f66b-4fce-4294-a0e8-e852fb5edfee",
   "metadata": {},
   "outputs": [],
   "source": []
  }
 ],
 "metadata": {
  "kernelspec": {
   "display_name": "Python 3 (ipykernel)",
   "language": "python",
   "name": "python3"
  },
  "language_info": {
   "codemirror_mode": {
    "name": "ipython",
    "version": 3
   },
   "file_extension": ".py",
   "mimetype": "text/x-python",
   "name": "python",
   "nbconvert_exporter": "python",
   "pygments_lexer": "ipython3",
   "version": "3.10.14"
  }
 },
 "nbformat": 4,
 "nbformat_minor": 5
}
