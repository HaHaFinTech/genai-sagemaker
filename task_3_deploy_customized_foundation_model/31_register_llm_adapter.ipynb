{
 "cells": [
  {
   "cell_type": "markdown",
   "id": "60d1c174-3966-4c8f-a31d-30f58fd64fb7",
   "metadata": {},
   "source": [
    "# Regiser the trained Adapter to Model Registry\n"
   ]
  },
  {
   "cell_type": "code",
   "execution_count": null,
   "id": "37630468-c19e-4013-99c1-c78a1303bfcf",
   "metadata": {
    "tags": []
   },
   "outputs": [],
   "source": [
    "!pip install \"sagemaker>=2.190.0\""
   ]
  },
  {
   "cell_type": "code",
   "execution_count": null,
   "id": "35790ee2-7cef-4582-94d4-b511a3cd73bf",
   "metadata": {
    "tags": []
   },
   "outputs": [],
   "source": [
    "import os, boto3, sagemaker\n",
    "from sagemaker.model import Model\n",
    "from sagemaker import ModelPackage\n",
    "import time\n",
    "from botocore.exceptions import ClientError\n",
    "\n",
    "sm_client = boto3.client('sagemaker')\n",
    "sess = sagemaker.Session()\n",
    "\n",
    "try:\n",
    "    role = sagemaker.get_execution_role()\n",
    "except ValueError:\n",
    "    iam = boto3.client('iam')\n",
    "    role = iam.get_role(RoleName='sagemaker_execution_role')['Role']['Arn']"
   ]
  },
  {
   "cell_type": "code",
   "execution_count": null,
   "id": "0ceb94eb-d6c8-46f2-9bec-d60d5f260d59",
   "metadata": {
    "tags": []
   },
   "outputs": [],
   "source": [
    "# Base model and trained adapter path will be retrieved from training notebook. However, please feel free to update it as needed. \n",
    "%store -r adapter_serving_dir_path\n",
    "%store -r base_model_s3_path\n",
    "\n",
    "os.environ['base_model_s3_path']=base_model_s3_path\n",
    "\n",
    "print(f'\\nAdapter Serving S3 Dir path: {adapter_serving_dir_path} \\n')\n",
    "\n",
    "print(f'\\n Base Model Serving S3 Dir path: {base_model_s3_path} \\n')"
   ]
  },
  {
   "cell_type": "markdown",
   "id": "c2aa5f64-fa5b-46e6-a675-4b82f8b3c763",
   "metadata": {
    "tags": []
   },
   "source": [
    "## Create Adapter Package"
   ]
  },
  {
   "cell_type": "code",
   "execution_count": null,
   "id": "bfb1b88b-c7d4-4edc-9e8c-e5bc5a5c5fd2",
   "metadata": {
    "scrolled": true,
    "tags": []
   },
   "outputs": [],
   "source": [
    "# Remove existing adapter_artifact directory\n",
    "!rm -rf ./adapter_artifact 2>/dev/null || true\n",
    "\n",
    "# Run AWS S3 cp command with error output\n",
    "!aws s3 cp --recursive {adapter_serving_dir_path} ./adapter_artifact"
   ]
  },
  {
   "cell_type": "code",
   "execution_count": null,
   "id": "be1041e1-b76b-419b-a4b7-3fe5ee9c84bd",
   "metadata": {
    "tags": []
   },
   "outputs": [],
   "source": [
    "%%bash\n",
    "\n",
    "cat > ./adapter_artifact/serving.properties <<EOF\n",
    "\n",
    "engine=Python\n",
    "option.model_id=${base_model_s3_path}\n",
    "option.adapters=adapters\n",
    "option.dtype=fp16\n",
    "\n",
    "option.tensor_parallel_degree=max\n",
    "option.rolling_batch=lmi-dist\n",
    "option.use_custom_all_reduce=true\n",
    "option.output_formatter=json\n",
    "option.max_rolling_batch_size=64\n",
    "option.model_loading_timeout=3600\n",
    "option.max_model_len=5000\n",
    "option.gpu_memory_utilization=0.9\n",
    "option.enable_lora:true\n",
    "load_on_devices=0\n",
    "\n",
    "EOF"
   ]
  },
  {
   "cell_type": "code",
   "execution_count": null,
   "id": "30ad8605-c8cb-48ba-b6c6-90d794f0cd3f",
   "metadata": {
    "tags": []
   },
   "outputs": [],
   "source": [
    "!tar czvf adapter.tar.gz --exclude='checkpoint-20' -C ./adapter_artifact/ ."
   ]
  },
  {
   "cell_type": "code",
   "execution_count": null,
   "id": "0d6d3b1b-d9fa-4b13-ae0d-761d46a4076e",
   "metadata": {
    "tags": []
   },
   "outputs": [],
   "source": [
    "!aws s3 cp adapter.tar.gz {adapter_serving_dir_path}"
   ]
  },
  {
   "cell_type": "code",
   "execution_count": null,
   "id": "70a5907a-9836-4513-8bb8-3cf10013a9b0",
   "metadata": {
    "tags": []
   },
   "outputs": [],
   "source": [
    "LMI_VERSION = \"0.29.0\"\n",
    "LMI_FRAMEWORK = 'djl-lmi'\n",
    "\n",
    "inference_image_uri = sagemaker.image_uris.retrieve(\n",
    "    framework=LMI_FRAMEWORK, region=boto3.Session().region_name, version=LMI_VERSION\n",
    ")\n",
    "print(f\"LMI Container Image: {inference_image_uri}\")"
   ]
  },
  {
   "cell_type": "markdown",
   "id": "f82abf65-403e-4a7f-86dd-9ae8e0615909",
   "metadata": {},
   "source": [
    "## Create Model Package Group"
   ]
  },
  {
   "cell_type": "code",
   "execution_count": null,
   "id": "e165500c-dbca-495e-944d-7f804d0063f6",
   "metadata": {
    "tags": []
   },
   "outputs": [],
   "source": [
    "def check_model_package_group_exists(model_package_group_name):\n",
    "    try:\n",
    "        response = sm_client.describe_model_package_group(\n",
    "            ModelPackageGroupName=model_package_group_name\n",
    "        )\n",
    "        # If the call succeeds, the model package group exists\n",
    "        return True\n",
    "    except ClientError as e:\n",
    "        if e.response['Error']['Code'] == 'ResourceNotFound':\n",
    "            # The model package group does not exist\n",
    "            return False\n",
    "        else:\n",
    "            # Some other error occurred\n",
    "            raise\n",
    "\n",
    "model_package_group_name = \"adapter-model-group-v1\"\n",
    "\n",
    "if(not check_model_package_group_exists(model_package_group_name)):\n",
    "    # Create Model Package Group\n",
    "    try:\n",
    "        sm_client.create_model_package_group(\n",
    "            ModelPackageGroupName=model_package_group_name,\n",
    "            ModelPackageGroupDescription=\"Description of your model package group\"\n",
    "        )\n",
    "        print(f\"Model Package Group '{model_package_group_name}' created successfully.\")\n",
    "    except sm_client.exceptions.ResourceInUseException:\n",
    "        print(f\"Model Package Group '{model_package_group_name}' already exists.\")"
   ]
  },
  {
   "cell_type": "markdown",
   "id": "82b8d3d9-9016-4ca6-bd33-8b260080a5a3",
   "metadata": {
    "tags": []
   },
   "source": [
    "## Create Model Package"
   ]
  },
  {
   "cell_type": "code",
   "execution_count": null,
   "id": "7dd69849-146a-4643-9763-e3e9360ad5ba",
   "metadata": {
    "tags": []
   },
   "outputs": [],
   "source": [
    "create_model_package_input_dict = {\n",
    "    \"ModelPackageGroupName\": model_package_group_name,\n",
    "    \"ModelPackageDescription\": \"Model description\",\n",
    "    \"ModelApprovalStatus\": \"Approved\"\n",
    "}\n",
    "\n",
    "# Call the API\n",
    "create_model_package_response = sm_client.create_model_package(**create_model_package_input_dict)\n",
    "model_package_arn = create_model_package_response[\"ModelPackageArn\"]\n",
    "\n",
    "model_package_arn"
   ]
  },
  {
   "cell_type": "code",
   "execution_count": null,
   "id": "f0c00489-7ba2-4b21-a5e1-2edebeeeb10c",
   "metadata": {
    "tags": []
   },
   "outputs": [],
   "source": [
    "!aws s3 ls {adapter_serving_dir_path}adapter.tar.gz"
   ]
  },
  {
   "cell_type": "markdown",
   "id": "6783b646-077d-4918-a191-50014450de53",
   "metadata": {},
   "source": [
    "## Update Model Package with LMI image and adapter package "
   ]
  },
  {
   "cell_type": "code",
   "execution_count": null,
   "id": "fddde5e9-ef57-4d35-a705-a99c1d4aaea2",
   "metadata": {
    "tags": []
   },
   "outputs": [],
   "source": [
    "latest_model_package_arn=model_package_arn\n",
    "\n",
    "response = sm_client.update_model_package(\n",
    "    ModelPackageArn=latest_model_package_arn,\n",
    "    InferenceSpecification={\n",
    "        'Containers': [\n",
    "            {\n",
    "                'Image': inference_image_uri,\n",
    "                'ModelDataUrl': f\"{adapter_serving_dir_path}adapter.tar.gz\"\n",
    "            },\n",
    "        ],\n",
    "        'SupportedTransformInstanceTypes': ['ml.g5.12xlarge'],\n",
    "        'SupportedRealtimeInferenceInstanceTypes': ['ml.g5.12xlarge'],\n",
    "        'SupportedContentTypes': ['application/json'],\n",
    "        'SupportedResponseMIMETypes': ['application/json']\n",
    "    }\n",
    ")\n",
    "model_package_arn = response[\"ModelPackageArn\"]\n",
    "print(f\"update registered model's inference spec: {model_package_arn}\")\n",
    "\n",
    "%store model_package_arn"
   ]
  }
 ],
 "metadata": {
  "kernelspec": {
   "display_name": "Python 3 (ipykernel)",
   "language": "python",
   "name": "python3"
  },
  "language_info": {
   "codemirror_mode": {
    "name": "ipython",
    "version": 3
   },
   "file_extension": ".py",
   "mimetype": "text/x-python",
   "name": "python",
   "nbconvert_exporter": "python",
   "pygments_lexer": "ipython3",
   "version": "3.10.14"
  }
 },
 "nbformat": 4,
 "nbformat_minor": 5
}
